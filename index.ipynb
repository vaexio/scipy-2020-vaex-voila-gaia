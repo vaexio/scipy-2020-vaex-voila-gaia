{
 "cells": [
  {
   "cell_type": "code",
   "execution_count": null,
   "metadata": {},
   "outputs": [],
   "source": [
    "import astropy.units  # issue with vaex, should be fixed soon!"
   ]
  },
  {
   "cell_type": "code",
   "execution_count": null,
   "metadata": {
    "ExecuteTime": {
     "end_time": "2020-06-11T14:55:00.960538Z",
     "start_time": "2020-06-11T14:55:00.172785Z"
    }
   },
   "outputs": [],
   "source": [
    "import vaex\n",
    "import numpy as np\n",
    "import warnings; warnings.simplefilter('ignore')\n",
    "\n",
    "# df = vaex.open('/data/gaia/gaia-dr2-sort-by-source_id.hdf5')\n",
    "df = vaex.open('ws://dataframe.vaex.io/gaia-dr2-sort-by-source_id')"
   ]
  },
  {
   "cell_type": "code",
   "execution_count": null,
   "metadata": {},
   "outputs": [],
   "source": [
    "type(df)"
   ]
  },
  {
   "cell_type": "code",
   "execution_count": null,
   "metadata": {},
   "outputs": [],
   "source": [
    "df"
   ]
  },
  {
   "cell_type": "code",
   "execution_count": null,
   "metadata": {},
   "outputs": [],
   "source": [
    "df['distance'] = 1/df.parallax"
   ]
  },
  {
   "cell_type": "code",
   "execution_count": null,
   "metadata": {},
   "outputs": [],
   "source": [
    "df.mean(df.distance)"
   ]
  },
  {
   "cell_type": "code",
   "execution_count": null,
   "metadata": {
    "ExecuteTime": {
     "end_time": "2020-06-11T14:55:01.499737Z",
     "start_time": "2020-06-11T14:55:00.961375Z"
    }
   },
   "outputs": [],
   "source": [
    "heatmap_sky = df.widget.heatmap(df.l, df.b, selection=[None, 'default'],\n",
    "                                limits=[[0, 360], [-90, 90]], transform='log10')\n",
    "heatmap_sky"
   ]
  },
  {
   "cell_type": "code",
   "execution_count": null,
   "metadata": {},
   "outputs": [],
   "source": [
    "counter_widget1 = df.widget.counter_processed()\n",
    "counter_widget1"
   ]
  },
  {
   "cell_type": "code",
   "execution_count": null,
   "metadata": {},
   "outputs": [],
   "source": [
    "counter_widget2 = df.widget.counter_selection('default', lazy=True)\n",
    "counter_widget2"
   ]
  },
  {
   "cell_type": "code",
   "execution_count": null,
   "metadata": {
    "ExecuteTime": {
     "end_time": "2020-06-11T14:59:37.553163Z",
     "start_time": "2020-06-11T14:59:37.008626Z"
    }
   },
   "outputs": [],
   "source": [
    "df['log_distance'] = np.log10(df.distance)"
   ]
  },
  {
   "cell_type": "code",
   "execution_count": null,
   "metadata": {
    "ExecuteTime": {
     "end_time": "2020-06-11T14:59:38.283462Z",
     "start_time": "2020-06-11T14:59:38.238702Z"
    }
   },
   "outputs": [],
   "source": [
    "histogram_widget1 = df.widget.histogram(df.log_distance, limits=[-2, 2], selection=[None, 'default'])\n",
    "histogram_widget1"
   ]
  },
  {
   "cell_type": "code",
   "execution_count": null,
   "metadata": {
    "ExecuteTime": {
     "end_time": "2020-06-11T15:00:01.544263Z",
     "start_time": "2020-06-11T14:59:59.120457Z"
    }
   },
   "outputs": [],
   "source": [
    "await vaex.jupyter.gather()  # wait till previous plot is done\n",
    "widget_x_histogram1 = df.widget.column(histogram_widget1.model.x)\n",
    "widget_x_histogram1"
   ]
  },
  {
   "cell_type": "code",
   "execution_count": null,
   "metadata": {
    "ExecuteTime": {
     "end_time": "2020-06-11T15:00:44.492213Z",
     "start_time": "2020-06-11T15:00:44.447666Z"
    }
   },
   "outputs": [],
   "source": [
    "await vaex.jupyter.gather()  # wait till previous plot is done\n",
    "histogram_widget2 = df.widget.histogram(df.parallax_over_error, limits=[0, 30], selection=[None, 'default'])\n",
    "histogram_widget2"
   ]
  },
  {
   "cell_type": "code",
   "execution_count": null,
   "metadata": {
    "ExecuteTime": {
     "end_time": "2020-06-11T15:00:56.146730Z",
     "start_time": "2020-06-11T15:00:53.564933Z"
    }
   },
   "outputs": [],
   "source": [
    "await vaex.jupyter.gather()  # wait till previous plot is done\n",
    "widget_x_histogram2 = df.widget.column(histogram_widget2.model.x)\n",
    "widget_x_histogram2"
   ]
  },
  {
   "cell_type": "code",
   "execution_count": null,
   "metadata": {
    "ExecuteTime": {
     "end_time": "2020-06-11T15:01:42.268805Z",
     "start_time": "2020-06-11T15:01:42.251595Z"
    }
   },
   "outputs": [],
   "source": [
    "card1 = vaex.jupyter.widgets.ContainerCard(title='Sky heatmap',\n",
    "              main=heatmap_sky,\n",
    "              controls=[counter_widget1, counter_widget2],\n",
    "              show_controls=True,\n",
    "              card_props={'style': 'min-width: 350px;'})\n",
    "card1"
   ]
  },
  {
   "cell_type": "code",
   "execution_count": null,
   "metadata": {
    "ExecuteTime": {
     "end_time": "2020-06-11T15:02:39.963280Z",
     "start_time": "2020-06-11T15:02:38.018660Z"
    }
   },
   "outputs": [],
   "source": [
    "card2 = vaex.jupyter.widgets.ContainerCard(title='User histogram1',\n",
    "              main=histogram_widget1,\n",
    "              controls=[widget_x_histogram1],\n",
    "              show_controls=True,\n",
    "              card_props={'style': 'min-width: 350px;'})\n",
    "card2"
   ]
  },
  {
   "cell_type": "code",
   "execution_count": null,
   "metadata": {
    "ExecuteTime": {
     "end_time": "2020-06-11T15:02:47.948383Z",
     "start_time": "2020-06-11T15:02:45.333067Z"
    }
   },
   "outputs": [],
   "source": [
    "card3 = vaex.jupyter.widgets.ContainerCard(title='User histogram2',\n",
    "              main=histogram_widget2,\n",
    "              controls=[widget_x_histogram2],\n",
    "              show_controls=True,\n",
    "              card_props={'style': 'min-width: 350px;'})\n",
    "card3"
   ]
  },
  {
   "cell_type": "code",
   "execution_count": null,
   "metadata": {
    "ExecuteTime": {
     "end_time": "2020-06-11T15:03:06.182762Z",
     "start_time": "2020-06-11T15:03:06.180452Z"
    }
   },
   "outputs": [],
   "source": [
    "import ipyvuetify as v"
   ]
  },
  {
   "cell_type": "code",
   "execution_count": null,
   "metadata": {
    "ExecuteTime": {
     "end_time": "2020-06-11T15:03:19.367029Z",
     "start_time": "2020-06-11T15:03:16.531570Z"
    }
   },
   "outputs": [],
   "source": [
    "# all cards are 12 columns wide on small screen, 6 on medium, 4 or large\n",
    "# see https://vuetifyjs.com/en/components/grids/#grid-system\n",
    "v.Container(fluid=True, _metadata={'mount_id': 'content-main'}, children=[\n",
    "    v.Row(children=[\n",
    "        v.Col(lg=4, md=6, sm=12, children=[\n",
    "            card1\n",
    "        ]),\n",
    "        v.Col(lg=4, md=6, sm=12, children=[\n",
    "            card2\n",
    "        ]),\n",
    "        v.Col(lg=4, md=6, sm=12, children=[\n",
    "            card3\n",
    "        ]),\n",
    "    ])\n",
    "])"
   ]
  },
  {
   "cell_type": "code",
   "execution_count": null,
   "metadata": {},
   "outputs": [],
   "source": [
    "column_list = vaex.jupyter.widgets.ColumnList(df=df, _metadata={'mount_id': 'content-nav'}, )\n",
    "column_list"
   ]
  },
  {
   "cell_type": "code",
   "execution_count": null,
   "metadata": {},
   "outputs": [],
   "source": []
  }
 ],
 "metadata": {
  "kernelspec": {
   "display_name": "Python 3",
   "language": "python",
   "name": "python3"
  },
  "language_info": {
   "codemirror_mode": {
    "name": "ipython",
    "version": 3
   },
   "file_extension": ".py",
   "mimetype": "text/x-python",
   "name": "python",
   "nbconvert_exporter": "python",
   "pygments_lexer": "ipython3",
   "version": "3.7.7"
  }
 },
 "nbformat": 4,
 "nbformat_minor": 4
}
